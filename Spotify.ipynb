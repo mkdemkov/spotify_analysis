{
  "cells": [
    {
      "cell_type": "markdown",
      "metadata": {
        "id": "tBrDXMdDy-Qn"
      },
      "source": [
        "# HSE 2023: Введение в машинное обучение БИ 23/24\n",
        "\n",
        "## ДЗ 2"
      ]
    },
    {
      "cell_type": "markdown",
      "metadata": {
        "id": "RXXi5K1mf41d"
      },
      "source": [
        "# Внимание!\n",
        "Если в задании просят объяснить что-либо, то это значит, что требуется письменный ответ, который является частью задания и оценивается\n",
        "\n",
        "Мы только принимаем ipynb ноутбуки. Если вы используете Google Colab, то вам необходимо скачать ноутбук перед сдачей ДЗ\n"
      ]
    },
    {
      "cell_type": "code",
      "execution_count": 5,
      "metadata": {
        "ExecuteTime": {
          "end_time": "2020-09-26T16:48:20.566549Z",
          "start_time": "2020-09-26T16:48:19.893995Z"
        },
        "id": "mSR-a9vVy-Qp",
        "colab": {
          "base_uri": "https://localhost:8080/"
        },
        "outputId": "ba5a963f-d999-4310-d02f-1c69682ca7a5"
      },
      "outputs": [
        {
          "output_type": "stream",
          "name": "stdout",
          "text": [
            "Requirement already satisfied: category_encoders in /usr/local/lib/python3.10/dist-packages (2.6.2)\n",
            "Requirement already satisfied: numpy>=1.14.0 in /usr/local/lib/python3.10/dist-packages (from category_encoders) (1.23.5)\n",
            "Requirement already satisfied: scikit-learn>=0.20.0 in /usr/local/lib/python3.10/dist-packages (from category_encoders) (1.2.2)\n",
            "Requirement already satisfied: scipy>=1.0.0 in /usr/local/lib/python3.10/dist-packages (from category_encoders) (1.11.3)\n",
            "Requirement already satisfied: statsmodels>=0.9.0 in /usr/local/lib/python3.10/dist-packages (from category_encoders) (0.14.0)\n",
            "Requirement already satisfied: pandas>=1.0.5 in /usr/local/lib/python3.10/dist-packages (from category_encoders) (1.5.3)\n",
            "Requirement already satisfied: patsy>=0.5.1 in /usr/local/lib/python3.10/dist-packages (from category_encoders) (0.5.3)\n",
            "Requirement already satisfied: python-dateutil>=2.8.1 in /usr/local/lib/python3.10/dist-packages (from pandas>=1.0.5->category_encoders) (2.8.2)\n",
            "Requirement already satisfied: pytz>=2020.1 in /usr/local/lib/python3.10/dist-packages (from pandas>=1.0.5->category_encoders) (2023.3.post1)\n",
            "Requirement already satisfied: six in /usr/local/lib/python3.10/dist-packages (from patsy>=0.5.1->category_encoders) (1.16.0)\n",
            "Requirement already satisfied: joblib>=1.1.1 in /usr/local/lib/python3.10/dist-packages (from scikit-learn>=0.20.0->category_encoders) (1.3.2)\n",
            "Requirement already satisfied: threadpoolctl>=2.0.0 in /usr/local/lib/python3.10/dist-packages (from scikit-learn>=0.20.0->category_encoders) (3.2.0)\n",
            "Requirement already satisfied: packaging>=21.3 in /usr/local/lib/python3.10/dist-packages (from statsmodels>=0.9.0->category_encoders) (23.2)\n"
          ]
        }
      ],
      "source": [
        "import pandas as pd\n",
        "import numpy as np\n",
        "import matplotlib.pyplot as plt\n",
        "import seaborn as sns\n",
        "import sklearn\n",
        "from sklearn import datasets\n",
        "# from sklearn.datasets import load_boston\n",
        "from sklearn.model_selection import GridSearchCV\n",
        "from sklearn.model_selection import train_test_split\n",
        "from sklearn.linear_model import Ridge\n",
        "!pip install category_encoders\n",
        "from category_encoders import TargetEncoder\n",
        "from sklearn.preprocessing import StandardScaler, LabelEncoder\n",
        "from sklearn.linear_model import LinearRegression, Ridge, Lasso, ElasticNet\n",
        "from sklearn.metrics import mean_squared_error, r2_score\n",
        "import statsmodels.api as sm\n",
        "from statsmodels.regression.linear_model import OLSResults\n",
        "from math import sqrt\n",
        "import random\n",
        "import sys\n",
        "\n",
        "import warnings\n",
        "warnings.filterwarnings(\"ignore\")\n",
        "\n",
        "%matplotlib inline\n",
        "\n",
        "sns.set(style=\"darkgrid\")"
      ]
    },
    {
      "cell_type": "markdown",
      "metadata": {
        "id": "HUjuv9Qty-Qq"
      },
      "source": [
        "### Данные\n",
        "\n",
        "Для этого ДЗ мы будем использовать датасет треков со стримингового сервиса Spotify"
      ]
    },
    {
      "cell_type": "markdown",
      "metadata": {
        "id": "2pBwbF84SQWA"
      },
      "source": [
        "**Описание данных**\n",
        "\n",
        "- **track_id:** The Spotify ID for the track\n",
        "- **artists:** The artists' names who performed the track. If there is more than one artist, they are separated by a ;\n",
        "- **album_name:** The album name in which the track appears\n",
        "- **track_name:** Name of the track\n",
        "- **popularity:** The popularity of a track is a value between 0 and 100, with 100 being the most popular. The popularity is calculated by algorithm and is based, in the most part, on the total number of plays the track has had and how recent those plays are. Generally speaking, songs that are being played a lot now will have a higher popularity than songs that were played a lot in the past. Duplicate tracks (e.g. the same track from a single and an album) are rated independently. Artist and album popularity is derived mathematically from track popularity.\n",
        "- **duration_ms:** The track length in milliseconds\n",
        "- **explicit:** Whether or not the track has explicit lyrics (true = yes it does; false = no it does not OR unknown)\n",
        "- **danceability:** Danceability describes how suitable a track is for dancing based on a combination of musical elements including tempo, rhythm stability, beat strength, and overall regularity. A value of 0.0 is least danceable and 1.0 is most danceable\n",
        "- **key:** The key the track is in. Integers map to pitches using standard Pitch Class notation. E.g. 0 = C, 1 = C♯/D♭, 2 = D, and so on. If no key was detected, the value is -1\n",
        "- **loudness:** The overall loudness of a track in decibels (dB)\n",
        "- **mode:** Mode indicates the modality (major or minor) of a track, the type of scale from which its melodic content is derived. Major is represented by 1 and minor is 0\n",
        "- **speechiness:** Speechiness detects the presence of spoken words in a track. The more exclusively speech-like the recording (e.g. talk show, audio book, poetry), the closer to 1.0 the attribute value. Values above 0.66 describe tracks that are probably made entirely of spoken words. Values between 0.33 and 0.66 describe tracks that may contain both music and speech, either in sections or layered, including such cases as rap music. Values below 0.33 most likely represent music and other non-speech-like tracks\n",
        "- **acousticness:** A confidence measure from 0.0 to 1.0 of whether the track is acoustic. 1.0 represents high confidence the track is acoustic\n",
        "- **instrumentalness:** Predicts whether a track contains no vocals. \"Ooh\" and \"aah\" sounds are treated as instrumental in this context. Rap or spoken word tracks are clearly \"vocal\". The closer the instrumentalness value is to 1.0, the greater likelihood the track contains no vocal content\n",
        "- **liveness:** Detects the presence of an audience in the recording. Higher liveness values represent an increased probability that the track was performed live. A value above 0.8 provides strong likelihood that the track is live\n",
        "- **valence:** A measure from 0.0 to 1.0 describing the musical positiveness conveyed by a track. Tracks with high valence sound more positive (e.g. happy, cheerful, euphoric), while tracks with low valence sound more negative (e.g. sad, depressed, angry)\n",
        "- **tempo:** The overall estimated tempo of a track in beats per minute (BPM). In musical terminology, tempo is the speed or pace of a given piece and derives directly from the average beat duration\n",
        "- **time_signature:** An estimated time signature. The time signature (meter) is a notational convention to specify how many beats are in each bar (or measure). The time signature ranges from 3 to 7 indicating time signatures of 3/4, to 7/4.\n",
        "- **track_genre:** The genre in which the track belongs\n",
        "\n",
        "**Целевая переменная**\n",
        "- **energy:** Energy is a measure from 0.0 to 1.0 and represents a perceptual measure of intensity and activity. Typically, energetic tracks feel fast, loud, and noisy. For example, death metal has high energy, while a Bach prelude scores low on the scale"
      ]
    },
    {
      "cell_type": "markdown",
      "source": [
        "## Удаление некоторых признаков\n",
        "Из описания признаков можно сделать вывод, что целевая переменная energy не зависит от того, кто исполнил трек, как он называется и какому альбому принадлежит. Скорее, от этого может зависеть популярность, а она у нас уже посчитана, поэтому я удалил эти признаки из датасета"
      ],
      "metadata": {
        "id": "Znv6P_JRrkNM"
      }
    },
    {
      "cell_type": "code",
      "execution_count": null,
      "metadata": {
        "id": "tHWSWTXDy-Qq"
      },
      "outputs": [],
      "source": [
        "data = pd.read_csv('dataset.csv')\n",
        "data = data.drop(['artists', 'track_name', 'album_name'], axis=1) # удаление ненужных признаков\n",
        "\n",
        "y = data['energy']\n",
        "X = data.drop(['energy'], axis=1)\n",
        "columns = X.columns"
      ]
    },
    {
      "cell_type": "code",
      "source": [
        "data.head()"
      ],
      "metadata": {
        "id": "vzMoxzsHdgmh"
      },
      "execution_count": null,
      "outputs": []
    },
    {
      "cell_type": "markdown",
      "metadata": {
        "id": "K81w8s35y-Qq"
      },
      "source": [
        "## Линейная регрессия"
      ]
    },
    {
      "cell_type": "markdown",
      "metadata": {
        "id": "cYgEN-FMy-Qr"
      },
      "source": [
        "#### 0. [0.25 балла] Закодируйте категориальные признаки. Объясните выбранный вами метод.\n",
        "Так как признак explicit принимает всего 2 значения - True или False, заменим его на бинарный численный формат"
      ]
    },
    {
      "cell_type": "code",
      "execution_count": null,
      "metadata": {
        "id": "-IrSlQaWy-Qr"
      },
      "outputs": [],
      "source": [
        "# ваш код здесь\n",
        "#╰( ͡° ͜ʖ ͡° )つ──☆*:・ﾟ\n",
        "X_train, X_test, y_train, y_test = train_test_split(X, y, test_size=0.25, random_state=7)\n",
        "\n",
        "X_train['explicit'] = X_train['explicit'].astype(int)\n",
        "X_test['explicit'] = X_test['explicit'].astype(int)\n",
        "X_train['key'] = X_train['key'].astype(str)\n",
        "X_test['key'] = X_test['key'].astype(str)"
      ]
    },
    {
      "cell_type": "code",
      "source": [
        "target_encoder = TargetEncoder()\n",
        "X_train[columns] = target_encoder.fit_transform(X_train[columns], y_train)\n",
        "X_test[columns] = target_encoder.transform(X_test[columns], y_test)\n",
        "X_train['explicit']\n",
        "\n",
        "X_test.head()"
      ],
      "metadata": {
        "colab": {
          "base_uri": "https://localhost:8080/",
          "height": 226
        },
        "id": "LfKmSSKq66UD",
        "outputId": "8ed25d0b-0a6e-4d92-d400-b3645ef30d5b"
      },
      "execution_count": 9,
      "outputs": [
        {
          "output_type": "execute_result",
          "data": {
            "text/plain": [
              "       popularity  duration_ms  explicit  danceability       key  loudness  \\\n",
              "94171          58       200601         0         0.664  0.676253   -11.661   \n",
              "67448           0       228133         0         0.691  0.644248    -4.770   \n",
              "14041           0       145760         0         0.543  0.636246    -3.940   \n",
              "42831          13       177880         0         0.416  0.639455    -5.188   \n",
              "42925          12        86933         0         0.345  0.676253    -8.208   \n",
              "\n",
              "       mode  speechiness  acousticness  instrumentalness  liveness  valence  \\\n",
              "94171     1       0.0743      0.791000          0.000000    0.1160   0.4240   \n",
              "67448     1       0.0735      0.239000          0.000000    0.0969   0.7790   \n",
              "14041     1       0.1080      0.001780          0.000000    0.0407   0.6570   \n",
              "42831     1       0.1330      0.000044          0.000037    0.0826   0.3520   \n",
              "42925     0       0.4420      0.003930          0.911000    0.2140   0.0377   \n",
              "\n",
              "         tempo  time_signature  track_genre  \n",
              "94171  133.904               4     0.464480  \n",
              "67448   94.960               4     0.725632  \n",
              "14041  145.015               4     0.496083  \n",
              "42831  115.611               4     0.922504  \n",
              "42925  121.285               3     0.922504  "
            ],
            "text/html": [
              "\n",
              "  <div id=\"df-bfc6b494-f9bd-481b-adf0-98b714f57cec\" class=\"colab-df-container\">\n",
              "    <div>\n",
              "<style scoped>\n",
              "    .dataframe tbody tr th:only-of-type {\n",
              "        vertical-align: middle;\n",
              "    }\n",
              "\n",
              "    .dataframe tbody tr th {\n",
              "        vertical-align: top;\n",
              "    }\n",
              "\n",
              "    .dataframe thead th {\n",
              "        text-align: right;\n",
              "    }\n",
              "</style>\n",
              "<table border=\"1\" class=\"dataframe\">\n",
              "  <thead>\n",
              "    <tr style=\"text-align: right;\">\n",
              "      <th></th>\n",
              "      <th>popularity</th>\n",
              "      <th>duration_ms</th>\n",
              "      <th>explicit</th>\n",
              "      <th>danceability</th>\n",
              "      <th>key</th>\n",
              "      <th>loudness</th>\n",
              "      <th>mode</th>\n",
              "      <th>speechiness</th>\n",
              "      <th>acousticness</th>\n",
              "      <th>instrumentalness</th>\n",
              "      <th>liveness</th>\n",
              "      <th>valence</th>\n",
              "      <th>tempo</th>\n",
              "      <th>time_signature</th>\n",
              "      <th>track_genre</th>\n",
              "    </tr>\n",
              "  </thead>\n",
              "  <tbody>\n",
              "    <tr>\n",
              "      <th>94171</th>\n",
              "      <td>58</td>\n",
              "      <td>200601</td>\n",
              "      <td>0</td>\n",
              "      <td>0.664</td>\n",
              "      <td>0.676253</td>\n",
              "      <td>-11.661</td>\n",
              "      <td>1</td>\n",
              "      <td>0.0743</td>\n",
              "      <td>0.791000</td>\n",
              "      <td>0.000000</td>\n",
              "      <td>0.1160</td>\n",
              "      <td>0.4240</td>\n",
              "      <td>133.904</td>\n",
              "      <td>4</td>\n",
              "      <td>0.464480</td>\n",
              "    </tr>\n",
              "    <tr>\n",
              "      <th>67448</th>\n",
              "      <td>0</td>\n",
              "      <td>228133</td>\n",
              "      <td>0</td>\n",
              "      <td>0.691</td>\n",
              "      <td>0.644248</td>\n",
              "      <td>-4.770</td>\n",
              "      <td>1</td>\n",
              "      <td>0.0735</td>\n",
              "      <td>0.239000</td>\n",
              "      <td>0.000000</td>\n",
              "      <td>0.0969</td>\n",
              "      <td>0.7790</td>\n",
              "      <td>94.960</td>\n",
              "      <td>4</td>\n",
              "      <td>0.725632</td>\n",
              "    </tr>\n",
              "    <tr>\n",
              "      <th>14041</th>\n",
              "      <td>0</td>\n",
              "      <td>145760</td>\n",
              "      <td>0</td>\n",
              "      <td>0.543</td>\n",
              "      <td>0.636246</td>\n",
              "      <td>-3.940</td>\n",
              "      <td>1</td>\n",
              "      <td>0.1080</td>\n",
              "      <td>0.001780</td>\n",
              "      <td>0.000000</td>\n",
              "      <td>0.0407</td>\n",
              "      <td>0.6570</td>\n",
              "      <td>145.015</td>\n",
              "      <td>4</td>\n",
              "      <td>0.496083</td>\n",
              "    </tr>\n",
              "    <tr>\n",
              "      <th>42831</th>\n",
              "      <td>13</td>\n",
              "      <td>177880</td>\n",
              "      <td>0</td>\n",
              "      <td>0.416</td>\n",
              "      <td>0.639455</td>\n",
              "      <td>-5.188</td>\n",
              "      <td>1</td>\n",
              "      <td>0.1330</td>\n",
              "      <td>0.000044</td>\n",
              "      <td>0.000037</td>\n",
              "      <td>0.0826</td>\n",
              "      <td>0.3520</td>\n",
              "      <td>115.611</td>\n",
              "      <td>4</td>\n",
              "      <td>0.922504</td>\n",
              "    </tr>\n",
              "    <tr>\n",
              "      <th>42925</th>\n",
              "      <td>12</td>\n",
              "      <td>86933</td>\n",
              "      <td>0</td>\n",
              "      <td>0.345</td>\n",
              "      <td>0.676253</td>\n",
              "      <td>-8.208</td>\n",
              "      <td>0</td>\n",
              "      <td>0.4420</td>\n",
              "      <td>0.003930</td>\n",
              "      <td>0.911000</td>\n",
              "      <td>0.2140</td>\n",
              "      <td>0.0377</td>\n",
              "      <td>121.285</td>\n",
              "      <td>3</td>\n",
              "      <td>0.922504</td>\n",
              "    </tr>\n",
              "  </tbody>\n",
              "</table>\n",
              "</div>\n",
              "    <div class=\"colab-df-buttons\">\n",
              "\n",
              "  <div class=\"colab-df-container\">\n",
              "    <button class=\"colab-df-convert\" onclick=\"convertToInteractive('df-bfc6b494-f9bd-481b-adf0-98b714f57cec')\"\n",
              "            title=\"Convert this dataframe to an interactive table.\"\n",
              "            style=\"display:none;\">\n",
              "\n",
              "  <svg xmlns=\"http://www.w3.org/2000/svg\" height=\"24px\" viewBox=\"0 -960 960 960\">\n",
              "    <path d=\"M120-120v-720h720v720H120Zm60-500h600v-160H180v160Zm220 220h160v-160H400v160Zm0 220h160v-160H400v160ZM180-400h160v-160H180v160Zm440 0h160v-160H620v160ZM180-180h160v-160H180v160Zm440 0h160v-160H620v160Z\"/>\n",
              "  </svg>\n",
              "    </button>\n",
              "\n",
              "  <style>\n",
              "    .colab-df-container {\n",
              "      display:flex;\n",
              "      gap: 12px;\n",
              "    }\n",
              "\n",
              "    .colab-df-convert {\n",
              "      background-color: #E8F0FE;\n",
              "      border: none;\n",
              "      border-radius: 50%;\n",
              "      cursor: pointer;\n",
              "      display: none;\n",
              "      fill: #1967D2;\n",
              "      height: 32px;\n",
              "      padding: 0 0 0 0;\n",
              "      width: 32px;\n",
              "    }\n",
              "\n",
              "    .colab-df-convert:hover {\n",
              "      background-color: #E2EBFA;\n",
              "      box-shadow: 0px 1px 2px rgba(60, 64, 67, 0.3), 0px 1px 3px 1px rgba(60, 64, 67, 0.15);\n",
              "      fill: #174EA6;\n",
              "    }\n",
              "\n",
              "    .colab-df-buttons div {\n",
              "      margin-bottom: 4px;\n",
              "    }\n",
              "\n",
              "    [theme=dark] .colab-df-convert {\n",
              "      background-color: #3B4455;\n",
              "      fill: #D2E3FC;\n",
              "    }\n",
              "\n",
              "    [theme=dark] .colab-df-convert:hover {\n",
              "      background-color: #434B5C;\n",
              "      box-shadow: 0px 1px 3px 1px rgba(0, 0, 0, 0.15);\n",
              "      filter: drop-shadow(0px 1px 2px rgba(0, 0, 0, 0.3));\n",
              "      fill: #FFFFFF;\n",
              "    }\n",
              "  </style>\n",
              "\n",
              "    <script>\n",
              "      const buttonEl =\n",
              "        document.querySelector('#df-bfc6b494-f9bd-481b-adf0-98b714f57cec button.colab-df-convert');\n",
              "      buttonEl.style.display =\n",
              "        google.colab.kernel.accessAllowed ? 'block' : 'none';\n",
              "\n",
              "      async function convertToInteractive(key) {\n",
              "        const element = document.querySelector('#df-bfc6b494-f9bd-481b-adf0-98b714f57cec');\n",
              "        const dataTable =\n",
              "          await google.colab.kernel.invokeFunction('convertToInteractive',\n",
              "                                                    [key], {});\n",
              "        if (!dataTable) return;\n",
              "\n",
              "        const docLinkHtml = 'Like what you see? Visit the ' +\n",
              "          '<a target=\"_blank\" href=https://colab.research.google.com/notebooks/data_table.ipynb>data table notebook</a>'\n",
              "          + ' to learn more about interactive tables.';\n",
              "        element.innerHTML = '';\n",
              "        dataTable['output_type'] = 'display_data';\n",
              "        await google.colab.output.renderOutput(dataTable, element);\n",
              "        const docLink = document.createElement('div');\n",
              "        docLink.innerHTML = docLinkHtml;\n",
              "        element.appendChild(docLink);\n",
              "      }\n",
              "    </script>\n",
              "  </div>\n",
              "\n",
              "\n",
              "<div id=\"df-df17c0f7-55a6-4ba2-923f-ace8aa16d737\">\n",
              "  <button class=\"colab-df-quickchart\" onclick=\"quickchart('df-df17c0f7-55a6-4ba2-923f-ace8aa16d737')\"\n",
              "            title=\"Suggest charts.\"\n",
              "            style=\"display:none;\">\n",
              "\n",
              "<svg xmlns=\"http://www.w3.org/2000/svg\" height=\"24px\"viewBox=\"0 0 24 24\"\n",
              "     width=\"24px\">\n",
              "    <g>\n",
              "        <path d=\"M19 3H5c-1.1 0-2 .9-2 2v14c0 1.1.9 2 2 2h14c1.1 0 2-.9 2-2V5c0-1.1-.9-2-2-2zM9 17H7v-7h2v7zm4 0h-2V7h2v10zm4 0h-2v-4h2v4z\"/>\n",
              "    </g>\n",
              "</svg>\n",
              "  </button>\n",
              "\n",
              "<style>\n",
              "  .colab-df-quickchart {\n",
              "      --bg-color: #E8F0FE;\n",
              "      --fill-color: #1967D2;\n",
              "      --hover-bg-color: #E2EBFA;\n",
              "      --hover-fill-color: #174EA6;\n",
              "      --disabled-fill-color: #AAA;\n",
              "      --disabled-bg-color: #DDD;\n",
              "  }\n",
              "\n",
              "  [theme=dark] .colab-df-quickchart {\n",
              "      --bg-color: #3B4455;\n",
              "      --fill-color: #D2E3FC;\n",
              "      --hover-bg-color: #434B5C;\n",
              "      --hover-fill-color: #FFFFFF;\n",
              "      --disabled-bg-color: #3B4455;\n",
              "      --disabled-fill-color: #666;\n",
              "  }\n",
              "\n",
              "  .colab-df-quickchart {\n",
              "    background-color: var(--bg-color);\n",
              "    border: none;\n",
              "    border-radius: 50%;\n",
              "    cursor: pointer;\n",
              "    display: none;\n",
              "    fill: var(--fill-color);\n",
              "    height: 32px;\n",
              "    padding: 0;\n",
              "    width: 32px;\n",
              "  }\n",
              "\n",
              "  .colab-df-quickchart:hover {\n",
              "    background-color: var(--hover-bg-color);\n",
              "    box-shadow: 0 1px 2px rgba(60, 64, 67, 0.3), 0 1px 3px 1px rgba(60, 64, 67, 0.15);\n",
              "    fill: var(--button-hover-fill-color);\n",
              "  }\n",
              "\n",
              "  .colab-df-quickchart-complete:disabled,\n",
              "  .colab-df-quickchart-complete:disabled:hover {\n",
              "    background-color: var(--disabled-bg-color);\n",
              "    fill: var(--disabled-fill-color);\n",
              "    box-shadow: none;\n",
              "  }\n",
              "\n",
              "  .colab-df-spinner {\n",
              "    border: 2px solid var(--fill-color);\n",
              "    border-color: transparent;\n",
              "    border-bottom-color: var(--fill-color);\n",
              "    animation:\n",
              "      spin 1s steps(1) infinite;\n",
              "  }\n",
              "\n",
              "  @keyframes spin {\n",
              "    0% {\n",
              "      border-color: transparent;\n",
              "      border-bottom-color: var(--fill-color);\n",
              "      border-left-color: var(--fill-color);\n",
              "    }\n",
              "    20% {\n",
              "      border-color: transparent;\n",
              "      border-left-color: var(--fill-color);\n",
              "      border-top-color: var(--fill-color);\n",
              "    }\n",
              "    30% {\n",
              "      border-color: transparent;\n",
              "      border-left-color: var(--fill-color);\n",
              "      border-top-color: var(--fill-color);\n",
              "      border-right-color: var(--fill-color);\n",
              "    }\n",
              "    40% {\n",
              "      border-color: transparent;\n",
              "      border-right-color: var(--fill-color);\n",
              "      border-top-color: var(--fill-color);\n",
              "    }\n",
              "    60% {\n",
              "      border-color: transparent;\n",
              "      border-right-color: var(--fill-color);\n",
              "    }\n",
              "    80% {\n",
              "      border-color: transparent;\n",
              "      border-right-color: var(--fill-color);\n",
              "      border-bottom-color: var(--fill-color);\n",
              "    }\n",
              "    90% {\n",
              "      border-color: transparent;\n",
              "      border-bottom-color: var(--fill-color);\n",
              "    }\n",
              "  }\n",
              "</style>\n",
              "\n",
              "  <script>\n",
              "    async function quickchart(key) {\n",
              "      const quickchartButtonEl =\n",
              "        document.querySelector('#' + key + ' button');\n",
              "      quickchartButtonEl.disabled = true;  // To prevent multiple clicks.\n",
              "      quickchartButtonEl.classList.add('colab-df-spinner');\n",
              "      try {\n",
              "        const charts = await google.colab.kernel.invokeFunction(\n",
              "            'suggestCharts', [key], {});\n",
              "      } catch (error) {\n",
              "        console.error('Error during call to suggestCharts:', error);\n",
              "      }\n",
              "      quickchartButtonEl.classList.remove('colab-df-spinner');\n",
              "      quickchartButtonEl.classList.add('colab-df-quickchart-complete');\n",
              "    }\n",
              "    (() => {\n",
              "      let quickchartButtonEl =\n",
              "        document.querySelector('#df-df17c0f7-55a6-4ba2-923f-ace8aa16d737 button');\n",
              "      quickchartButtonEl.style.display =\n",
              "        google.colab.kernel.accessAllowed ? 'block' : 'none';\n",
              "    })();\n",
              "  </script>\n",
              "</div>\n",
              "    </div>\n",
              "  </div>\n"
            ]
          },
          "metadata": {},
          "execution_count": 9
        }
      ]
    },
    {
      "cell_type": "markdown",
      "metadata": {
        "id": "7dVwP45Gy-Qr"
      },
      "source": [
        "#### 1. [0.25 балла] Разбейте данные на train и test с пропорцией 75:25 и random_state=7."
      ]
    },
    {
      "cell_type": "code",
      "execution_count": 10,
      "metadata": {
        "id": "U7z8TIh5y-Qs",
        "colab": {
          "base_uri": "https://localhost:8080/"
        },
        "outputId": "e22c243c-3d9d-47e4-db62-881447fe55be"
      },
      "outputs": [
        {
          "output_type": "stream",
          "name": "stdout",
          "text": [
            "I've done it before in task 0!\n"
          ]
        }
      ],
      "source": [
        "# ваш код здесь\n",
        "#╰( ͡° ͜ʖ ͡° )つ──☆*:・ﾟ\n",
        "print(\"I've done it before in task 0!\")"
      ]
    },
    {
      "cell_type": "markdown",
      "metadata": {
        "id": "7daIQRfKy-Qs",
        "tags": []
      },
      "source": [
        "#### 2. [0.75 балла] Обучите модели на train'е, исключив категориальные признаки, используя библиотеку StatsModels и примените ее к test'у; используйте $RMSE$ и $R ^ 2$ в качестве метрики качества. Попробуйте также применить реализации линейной регрессии из sklearn:\n",
        "\n",
        "* [`LinearRegression`](http://scikit-learn.org/stable/modules/generated/sklearn.linear_model.LinearRegression.html);\n",
        "* [`Ridge`](http://scikit-learn.org/stable/modules/generated/sklearn.linear_model.Ridge.html) with $\\alpha = 0.03$;\n",
        "* [`Lasso`](http://scikit-learn.org/stable/modules/generated/sklearn.linear_model.Lasso.html) with $\\alpha = 0.05$\n",
        "* [`ElasticNet`](https://scikit-learn.org/stable/modules/generated/sklearn.linear_model.ElasticNet.html) with $\\alpha = 0.01$, $l_{1}$_$ratio = 0.4$\n",
        "\n",
        "Не забывайте скейлить данные с помощью StandardScaler перед обучением моделей!"
      ]
    },
    {
      "cell_type": "code",
      "execution_count": 11,
      "metadata": {
        "id": "Bkbr5iFCy-Qs",
        "colab": {
          "base_uri": "https://localhost:8080/"
        },
        "outputId": "145b4e09-011f-4b95-b63e-6b418f9529b9"
      },
      "outputs": [
        {
          "output_type": "stream",
          "name": "stdout",
          "text": [
            "StatsModels:\n",
            "RMSE (train): 0.12189750051952532\n",
            "R-squared (train): 0.765671169091747\n",
            "RMSE (test): 0.12160132585000147\n",
            "R-squared (test): 0.7646449003216564\n"
          ]
        }
      ],
      "source": [
        "# ваш код здесь\n",
        "#╰( ͡° ͜ʖ ͡° )つ──☆*:・ﾟ\n",
        "categorical_features = ['explicit', 'key', 'mode', 'track_genre']\n",
        "columns_copy = columns\n",
        "X_train_copy = X_train\n",
        "X_test_copy = X_test\n",
        "\n",
        "X_train = X_train.drop(categorical_features, axis=1)\n",
        "X_test = X_test.drop(categorical_features, axis=1)\n",
        "columns = X_train.columns\n",
        "\n",
        "scaler = StandardScaler()\n",
        "\n",
        "X_train[columns] = scaler.fit_transform(X_train[columns])\n",
        "X_test[columns] = scaler.transform(X_test[columns])\n",
        "\n",
        "X_train = sm.add_constant(X_train)\n",
        "X_test = sm.add_constant(X_test)\n",
        "model = sm.OLS(y_train, X_train).fit()\n",
        "predictions_train = model.predict(X_train)\n",
        "predictions_test = model.predict(X_test)\n",
        "\n",
        "r2_train = r2_score(y_train, predictions_train)\n",
        "rmse_train = np.sqrt(mean_squared_error(y_train, predictions_train))\n",
        "\n",
        "r2_test = r2_score(y_test, predictions_test)\n",
        "rmse_test = np.sqrt(mean_squared_error(y_test, predictions_test))\n",
        "\n",
        "print(\"StatsModels:\")\n",
        "print(f\"RMSE (train): {rmse_train}\")\n",
        "print(f\"R-squared (train): {r2_train}\")\n",
        "print(f\"RMSE (test): {rmse_test}\")\n",
        "print(f\"R-squared (test): {r2_test}\")\n"
      ]
    },
    {
      "cell_type": "code",
      "source": [
        "# LinearReg\n",
        "linear_reg = LinearRegression()\n",
        "linear_reg.fit(X_train, y_train)\n",
        "linear_reg_train_predictions = linear_reg.predict(X_train)\n",
        "linear_reg_test_predictions = linear_reg.predict(X_test)\n",
        "\n",
        "# Ridge\n",
        "ridge_reg = Ridge(alpha=0.03)\n",
        "ridge_reg.fit(X_train, y_train)\n",
        "ridge_reg_train_predictions = ridge_reg.predict(X_train)\n",
        "ridge_reg_test_predictions = ridge_reg.predict(X_test)\n",
        "\n",
        "# Lasso\n",
        "lasso_reg = Lasso(alpha=0.05)\n",
        "lasso_reg.fit(X_train, y_train)\n",
        "lasso_reg_train_predictions = lasso_reg.predict(X_train)\n",
        "lasso_reg_test_predictions = lasso_reg.predict(X_test)\n",
        "\n",
        "# ElasticNet\n",
        "elastic_net = ElasticNet(alpha=0.01, l1_ratio=0.4)\n",
        "elastic_net.fit(X_train, y_train)\n",
        "elastic_net_train_predictions = elastic_net.predict(X_train)\n",
        "elastic_net_test_predictions = elastic_net.predict(X_test)"
      ],
      "metadata": {
        "id": "_onTuNz0wISg"
      },
      "execution_count": 12,
      "outputs": []
    },
    {
      "cell_type": "code",
      "source": [
        "def evaluate_model(model, y_true, y_pred):\n",
        "    rmse = np.sqrt(mean_squared_error(y_true, y_pred))\n",
        "    r2 = r2_score(y_true, y_pred)\n",
        "    print(f\"{model}:\")\n",
        "    print(f\"RMSE: {rmse}\")\n",
        "    print(f\"R-squared: {r2}\")"
      ],
      "metadata": {
        "id": "sDG-pQhr4LZZ"
      },
      "execution_count": 13,
      "outputs": []
    },
    {
      "cell_type": "code",
      "source": [
        "evaluate_model(\"Linear Regression (train)\", y_train, linear_reg_train_predictions)\n",
        "evaluate_model(\"Linear Regression (test)\", y_test, linear_reg_test_predictions)\n",
        "print()\n",
        "\n",
        "evaluate_model(\"Ridge (train)\", y_train, ridge_reg_train_predictions)\n",
        "evaluate_model(\"Ridge (test)\", y_test, ridge_reg_test_predictions)\n",
        "print()\n",
        "\n",
        "evaluate_model(\"Lasso (train)\", y_train, lasso_reg_train_predictions)\n",
        "evaluate_model(\"Lasso (test)\", y_test, lasso_reg_test_predictions)\n",
        "print()\n",
        "\n",
        "evaluate_model(\"ElasticNet (train)\", y_train, elastic_net_train_predictions)\n",
        "evaluate_model(\"ElasticNet (test)\", y_test, elastic_net_test_predictions)"
      ],
      "metadata": {
        "colab": {
          "base_uri": "https://localhost:8080/"
        },
        "id": "lJ6KK6Se4aqL",
        "outputId": "82866a5c-61a7-4963-f114-b37bcfe32bea"
      },
      "execution_count": 14,
      "outputs": [
        {
          "output_type": "stream",
          "name": "stdout",
          "text": [
            "Linear Regression (train):\n",
            "RMSE: 0.1218975005195253\n",
            "R-squared: 0.765671169091747\n",
            "Linear Regression (test):\n",
            "RMSE: 0.12160132585000147\n",
            "R-squared: 0.7646449003216564\n",
            "\n",
            "Ridge (train):\n",
            "RMSE: 0.12189750051954563\n",
            "R-squared: 0.7656711690916689\n",
            "Ridge (test):\n",
            "RMSE: 0.12160132516824915\n",
            "R-squared: 0.7646449029606719\n",
            "\n",
            "Lasso (train):\n",
            "RMSE: 0.14788208673493783\n",
            "R-squared: 0.6551205915214755\n",
            "Lasso (test):\n",
            "RMSE: 0.1471071204791906\n",
            "R-squared: 0.6555593645544675\n",
            "\n",
            "ElasticNet (train):\n",
            "RMSE: 0.12280012036170551\n",
            "R-squared: 0.7621880305586002\n",
            "ElasticNet (test):\n",
            "RMSE: 0.12247697499078816\n",
            "R-squared: 0.7612431198019444\n"
          ]
        }
      ]
    },
    {
      "cell_type": "markdown",
      "source": [
        "## Общий вывод\n",
        "Глядя на полученные значения можно сказать, что модели как-то описывают зависимость - не сказать, что хорошо, но и не плохо. Посмотрим, что будет, если добавить категоральные признаки"
      ],
      "metadata": {
        "id": "Jriq0qfbOfHN"
      }
    },
    {
      "cell_type": "markdown",
      "metadata": {
        "id": "IQgw2-DoSQWC"
      },
      "source": [
        "#### 3. [0.25 балла] Повторите шаги из предыдущего пункта, добавив категориальные признаки. Прокомментируйте изменения значений метрик качества"
      ]
    },
    {
      "cell_type": "code",
      "execution_count": 15,
      "metadata": {
        "id": "2mAe5aGfSQWC",
        "colab": {
          "base_uri": "https://localhost:8080/"
        },
        "outputId": "2bbce504-9d6f-4d9c-ef6a-fba948dd979b"
      },
      "outputs": [
        {
          "output_type": "stream",
          "name": "stdout",
          "text": [
            "StatsModels:\n",
            "RMSE (train): 0.11760025940577189\n",
            "R-squared (train): 0.7819014973115574\n",
            "RMSE (test): 0.11783606225847269\n",
            "R-squared (test): 0.7789943202086159\n"
          ]
        }
      ],
      "source": [
        "X_train = X_train_copy\n",
        "X_test = X_test_copy\n",
        "columns = columns_copy\n",
        "\n",
        "X_train[columns] = scaler.fit_transform(X_train[columns])\n",
        "X_test[columns] = scaler.transform(X_test[columns])\n",
        "\n",
        "X_train = sm.add_constant(X_train)\n",
        "X_test = sm.add_constant(X_test)\n",
        "model = sm.OLS(y_train, X_train).fit()\n",
        "predictions_train = model.predict(X_train)\n",
        "predictions_test = model.predict(X_test)\n",
        "\n",
        "r2_train = r2_score(y_train, predictions_train)\n",
        "rmse_train = np.sqrt(mean_squared_error(y_train, predictions_train))\n",
        "\n",
        "r2_test = r2_score(y_test, predictions_test)\n",
        "rmse_test = np.sqrt(mean_squared_error(y_test, predictions_test))\n",
        "\n",
        "print(\"StatsModels:\")\n",
        "print(f\"RMSE (train): {rmse_train}\")\n",
        "print(f\"R-squared (train): {r2_train}\")\n",
        "print(f\"RMSE (test): {rmse_test}\")\n",
        "print(f\"R-squared (test): {r2_test}\")"
      ]
    },
    {
      "cell_type": "code",
      "source": [
        "# LinearReg\n",
        "linear_reg = LinearRegression()\n",
        "linear_reg.fit(X_train, y_train)\n",
        "linear_reg_train_predictions = linear_reg.predict(X_train)\n",
        "linear_reg_test_predictions = linear_reg.predict(X_test)\n",
        "\n",
        "# Ridge\n",
        "ridge_reg = Ridge(alpha=0.03)\n",
        "ridge_reg.fit(X_train, y_train)\n",
        "ridge_reg_train_predictions = ridge_reg.predict(X_train)\n",
        "ridge_reg_test_predictions = ridge_reg.predict(X_test)\n",
        "\n",
        "# Lasso\n",
        "lasso_reg = Lasso(alpha=0.05)\n",
        "lasso_reg.fit(X_train, y_train)\n",
        "lasso_reg_train_predictions = lasso_reg.predict(X_train)\n",
        "lasso_reg_test_predictions = lasso_reg.predict(X_test)\n",
        "\n",
        "# ElasticNet\n",
        "elastic_net = ElasticNet(alpha=0.01, l1_ratio=0.4)\n",
        "elastic_net.fit(X_train, y_train)\n",
        "elastic_net_train_predictions = elastic_net.predict(X_train)\n",
        "elastic_net_test_predictions = elastic_net.predict(X_test)"
      ],
      "metadata": {
        "id": "-p3HxyBsOw9w"
      },
      "execution_count": 16,
      "outputs": []
    },
    {
      "cell_type": "code",
      "source": [
        "evaluate_model(\"Linear Regression (train)\", y_train, linear_reg_train_predictions)\n",
        "evaluate_model(\"Linear Regression (test)\", y_test, linear_reg_test_predictions)\n",
        "print()\n",
        "\n",
        "evaluate_model(\"Ridge (train)\", y_train, ridge_reg_train_predictions)\n",
        "evaluate_model(\"Ridge (test)\", y_test, ridge_reg_test_predictions)\n",
        "print()\n",
        "\n",
        "evaluate_model(\"Lasso (train)\", y_train, lasso_reg_train_predictions)\n",
        "evaluate_model(\"Lasso (test)\", y_test, lasso_reg_test_predictions)\n",
        "print()\n",
        "\n",
        "evaluate_model(\"ElasticNet (train)\", y_train, elastic_net_train_predictions)\n",
        "evaluate_model(\"ElasticNet (test)\", y_test, elastic_net_test_predictions)"
      ],
      "metadata": {
        "colab": {
          "base_uri": "https://localhost:8080/"
        },
        "id": "9BUr677DO24J",
        "outputId": "db6737d6-0045-42f7-8fe9-4a5de82abf74"
      },
      "execution_count": 17,
      "outputs": [
        {
          "output_type": "stream",
          "name": "stdout",
          "text": [
            "Linear Regression (train):\n",
            "RMSE: 0.11760025940577189\n",
            "R-squared: 0.7819014973115574\n",
            "Linear Regression (test):\n",
            "RMSE: 0.11783606225847268\n",
            "R-squared: 0.7789943202086159\n",
            "\n",
            "Ridge (train):\n",
            "RMSE: 0.11760025940579118\n",
            "R-squared: 0.781901497311486\n",
            "Ridge (test):\n",
            "RMSE: 0.11783606206176994\n",
            "R-squared: 0.7789943209464617\n",
            "\n",
            "Lasso (train):\n",
            "RMSE: 0.1437496456791906\n",
            "R-squared: 0.6741260158293427\n",
            "Lasso (test):\n",
            "RMSE: 0.14335088843982685\n",
            "R-squared: 0.6729246833823286\n",
            "\n",
            "ElasticNet (train):\n",
            "RMSE: 0.1186324423490295\n",
            "R-squared: 0.7780561743643593\n",
            "ElasticNet (test):\n",
            "RMSE: 0.11887099201676296\n",
            "R-squared: 0.7750951780597408\n"
          ]
        }
      ]
    },
    {
      "cell_type": "markdown",
      "source": [
        "## Вывод\n",
        "Модели стали чуть лучше и это говорит о том, что категоральные фичи оказывают воздействие на целевую переменную energy."
      ],
      "metadata": {
        "id": "l2nC9p9GO5Zo"
      }
    },
    {
      "cell_type": "markdown",
      "metadata": {
        "id": "69JOftKRy-Qt"
      },
      "source": [
        "#### 4. [1 балл] Исследуйте значения параметров полученных моделей и проверьте какие веса получились нулевыми. Прокомментируйте значимость коэффициентов, обшую значимость модели и остальные факторы из результирующей таблицы"
      ]
    },
    {
      "cell_type": "code",
      "execution_count": 18,
      "metadata": {
        "id": "Np1biYQ7y-Qt",
        "colab": {
          "base_uri": "https://localhost:8080/",
          "height": 673
        },
        "outputId": "ec1947ce-4ad2-432c-cecc-fd5d0237a35e"
      },
      "outputs": [
        {
          "output_type": "execute_result",
          "data": {
            "text/plain": [
              "<class 'statsmodels.iolib.summary2.Summary'>\n",
              "\"\"\"\n",
              "                   Results: Ordinary least squares\n",
              "=====================================================================\n",
              "Model:              OLS              Adj. R-squared:     0.782       \n",
              "Dependent Variable: energy           AIC:                -123348.8613\n",
              "Date:               2023-10-23 12:44 BIC:                -123199.1609\n",
              "No. Observations:   85500            Log-Likelihood:     61690.      \n",
              "Df Model:           15               F-statistic:        2.043e+04   \n",
              "Df Residuals:       85484            Prob (F-statistic): 0.00        \n",
              "R-squared:          0.782            Scale:              0.013832    \n",
              "---------------------------------------------------------------------\n",
              "                     Coef.  Std.Err.     t     P>|t|   [0.025  0.975]\n",
              "---------------------------------------------------------------------\n",
              "const                0.6420   0.0004 1596.1416 0.0000  0.6412  0.6428\n",
              "popularity          -0.0022   0.0004   -5.3965 0.0000 -0.0030 -0.0014\n",
              "duration_ms          0.0031   0.0004    7.4851 0.0000  0.0023  0.0039\n",
              "explicit            -0.0026   0.0004   -6.0042 0.0000 -0.0034 -0.0017\n",
              "danceability        -0.0321   0.0005  -65.5718 0.0000 -0.0331 -0.0312\n",
              "key                  0.0034   0.0004    8.3484 0.0000  0.0026  0.0042\n",
              "loudness             0.1223   0.0006  204.1852 0.0000  0.1211  0.1234\n",
              "mode                -0.0031   0.0004   -7.6638 0.0000 -0.0039 -0.0023\n",
              "speechiness          0.0239   0.0004   54.2151 0.0000  0.0230  0.0247\n",
              "acousticness        -0.0861   0.0006 -148.9532 0.0000 -0.0872 -0.0850\n",
              "instrumentalness     0.0340   0.0005   71.5499 0.0000  0.0331  0.0349\n",
              "liveness             0.0239   0.0004   56.5779 0.0000  0.0231  0.0247\n",
              "valence              0.0417   0.0005   85.0343 0.0000  0.0407  0.0426\n",
              "tempo                0.0053   0.0004   12.5814 0.0000  0.0045  0.0061\n",
              "time_signature       0.0052   0.0004   12.3937 0.0000  0.0044  0.0060\n",
              "track_genre          0.0438   0.0006   78.4051 0.0000  0.0427  0.0449\n",
              "---------------------------------------------------------------------\n",
              "Omnibus:             5840.817       Durbin-Watson:          1.994    \n",
              "Prob(Omnibus):       0.000          Jarque-Bera (JB):       26529.446\n",
              "Skew:                0.167          Prob(JB):               0.000    \n",
              "Kurtosis:            5.708          Condition No.:          3        \n",
              "=====================================================================\n",
              "Notes:\n",
              "[1] Standard Errors assume that the covariance matrix of the errors\n",
              "is correctly specified.\n",
              "\"\"\""
            ],
            "text/html": [
              "<table class=\"simpletable\">\n",
              "<tr>\n",
              "        <td>Model:</td>               <td>OLS</td>         <td>Adj. R-squared:</td>       <td>0.782</td>   \n",
              "</tr>\n",
              "<tr>\n",
              "  <td>Dependent Variable:</td>      <td>energy</td>             <td>AIC:</td>         <td>-123348.8613</td>\n",
              "</tr>\n",
              "<tr>\n",
              "         <td>Date:</td>        <td>2023-10-23 12:44</td>        <td>BIC:</td>         <td>-123199.1609</td>\n",
              "</tr>\n",
              "<tr>\n",
              "   <td>No. Observations:</td>        <td>85500</td>        <td>Log-Likelihood:</td>      <td>61690.</td>   \n",
              "</tr>\n",
              "<tr>\n",
              "       <td>Df Model:</td>             <td>15</td>           <td>F-statistic:</td>       <td>2.043e+04</td> \n",
              "</tr>\n",
              "<tr>\n",
              "     <td>Df Residuals:</td>          <td>85484</td>      <td>Prob (F-statistic):</td>     <td>0.00</td>    \n",
              "</tr>\n",
              "<tr>\n",
              "      <td>R-squared:</td>            <td>0.782</td>            <td>Scale:</td>          <td>0.013832</td>  \n",
              "</tr>\n",
              "</table>\n",
              "<table class=\"simpletable\">\n",
              "<tr>\n",
              "          <td></td>          <th>Coef.</th>  <th>Std.Err.</th>     <th>t</th>      <th>P>|t|</th> <th>[0.025</th>  <th>0.975]</th> \n",
              "</tr>\n",
              "<tr>\n",
              "  <th>const</th>            <td>0.6420</td>   <td>0.0004</td>  <td>1596.1416</td> <td>0.0000</td> <td>0.6412</td>  <td>0.6428</td> \n",
              "</tr>\n",
              "<tr>\n",
              "  <th>popularity</th>       <td>-0.0022</td>  <td>0.0004</td>   <td>-5.3965</td>  <td>0.0000</td> <td>-0.0030</td> <td>-0.0014</td>\n",
              "</tr>\n",
              "<tr>\n",
              "  <th>duration_ms</th>      <td>0.0031</td>   <td>0.0004</td>   <td>7.4851</td>   <td>0.0000</td> <td>0.0023</td>  <td>0.0039</td> \n",
              "</tr>\n",
              "<tr>\n",
              "  <th>explicit</th>         <td>-0.0026</td>  <td>0.0004</td>   <td>-6.0042</td>  <td>0.0000</td> <td>-0.0034</td> <td>-0.0017</td>\n",
              "</tr>\n",
              "<tr>\n",
              "  <th>danceability</th>     <td>-0.0321</td>  <td>0.0005</td>  <td>-65.5718</td>  <td>0.0000</td> <td>-0.0331</td> <td>-0.0312</td>\n",
              "</tr>\n",
              "<tr>\n",
              "  <th>key</th>              <td>0.0034</td>   <td>0.0004</td>   <td>8.3484</td>   <td>0.0000</td> <td>0.0026</td>  <td>0.0042</td> \n",
              "</tr>\n",
              "<tr>\n",
              "  <th>loudness</th>         <td>0.1223</td>   <td>0.0006</td>  <td>204.1852</td>  <td>0.0000</td> <td>0.1211</td>  <td>0.1234</td> \n",
              "</tr>\n",
              "<tr>\n",
              "  <th>mode</th>             <td>-0.0031</td>  <td>0.0004</td>   <td>-7.6638</td>  <td>0.0000</td> <td>-0.0039</td> <td>-0.0023</td>\n",
              "</tr>\n",
              "<tr>\n",
              "  <th>speechiness</th>      <td>0.0239</td>   <td>0.0004</td>   <td>54.2151</td>  <td>0.0000</td> <td>0.0230</td>  <td>0.0247</td> \n",
              "</tr>\n",
              "<tr>\n",
              "  <th>acousticness</th>     <td>-0.0861</td>  <td>0.0006</td>  <td>-148.9532</td> <td>0.0000</td> <td>-0.0872</td> <td>-0.0850</td>\n",
              "</tr>\n",
              "<tr>\n",
              "  <th>instrumentalness</th> <td>0.0340</td>   <td>0.0005</td>   <td>71.5499</td>  <td>0.0000</td> <td>0.0331</td>  <td>0.0349</td> \n",
              "</tr>\n",
              "<tr>\n",
              "  <th>liveness</th>         <td>0.0239</td>   <td>0.0004</td>   <td>56.5779</td>  <td>0.0000</td> <td>0.0231</td>  <td>0.0247</td> \n",
              "</tr>\n",
              "<tr>\n",
              "  <th>valence</th>          <td>0.0417</td>   <td>0.0005</td>   <td>85.0343</td>  <td>0.0000</td> <td>0.0407</td>  <td>0.0426</td> \n",
              "</tr>\n",
              "<tr>\n",
              "  <th>tempo</th>            <td>0.0053</td>   <td>0.0004</td>   <td>12.5814</td>  <td>0.0000</td> <td>0.0045</td>  <td>0.0061</td> \n",
              "</tr>\n",
              "<tr>\n",
              "  <th>time_signature</th>   <td>0.0052</td>   <td>0.0004</td>   <td>12.3937</td>  <td>0.0000</td> <td>0.0044</td>  <td>0.0060</td> \n",
              "</tr>\n",
              "<tr>\n",
              "  <th>track_genre</th>      <td>0.0438</td>   <td>0.0006</td>   <td>78.4051</td>  <td>0.0000</td> <td>0.0427</td>  <td>0.0449</td> \n",
              "</tr>\n",
              "</table>\n",
              "<table class=\"simpletable\">\n",
              "<tr>\n",
              "     <td>Omnibus:</td>    <td>5840.817</td>  <td>Durbin-Watson:</td>     <td>1.994</td>  \n",
              "</tr>\n",
              "<tr>\n",
              "  <td>Prob(Omnibus):</td>   <td>0.000</td>  <td>Jarque-Bera (JB):</td> <td>26529.446</td>\n",
              "</tr>\n",
              "<tr>\n",
              "       <td>Skew:</td>       <td>0.167</td>      <td>Prob(JB):</td>       <td>0.000</td>  \n",
              "</tr>\n",
              "<tr>\n",
              "     <td>Kurtosis:</td>     <td>5.708</td>   <td>Condition No.:</td>       <td>3</td>    \n",
              "</tr>\n",
              "</table><br/>\n",
              "Notes:<br/>\n",
              "[1] Standard Errors assume that the covariance matrix of the errors is correctly specified."
            ],
            "text/latex": "\\begin{table}\n\\caption{Results: Ordinary least squares}\n\\label{}\n\\begin{center}\n\\begin{tabular}{llll}\n\\hline\nModel:              & OLS              & Adj. R-squared:     & 0.782         \\\\\nDependent Variable: & energy           & AIC:                & -123348.8613  \\\\\nDate:               & 2023-10-23 12:44 & BIC:                & -123199.1609  \\\\\nNo. Observations:   & 85500            & Log-Likelihood:     & 61690.        \\\\\nDf Model:           & 15               & F-statistic:        & 2.043e+04     \\\\\nDf Residuals:       & 85484            & Prob (F-statistic): & 0.00          \\\\\nR-squared:          & 0.782            & Scale:              & 0.013832      \\\\\n\\hline\n\\end{tabular}\n\\end{center}\n\n\\begin{center}\n\\begin{tabular}{lrrrrrr}\n\\hline\n                 &   Coef. & Std.Err. &         t & P$> |$t$|$ &  [0.025 &  0.975]  \\\\\n\\hline\nconst            &  0.6420 &   0.0004 & 1596.1416 &      0.0000 &  0.6412 &  0.6428  \\\\\npopularity       & -0.0022 &   0.0004 &   -5.3965 &      0.0000 & -0.0030 & -0.0014  \\\\\nduration\\_ms     &  0.0031 &   0.0004 &    7.4851 &      0.0000 &  0.0023 &  0.0039  \\\\\nexplicit         & -0.0026 &   0.0004 &   -6.0042 &      0.0000 & -0.0034 & -0.0017  \\\\\ndanceability     & -0.0321 &   0.0005 &  -65.5718 &      0.0000 & -0.0331 & -0.0312  \\\\\nkey              &  0.0034 &   0.0004 &    8.3484 &      0.0000 &  0.0026 &  0.0042  \\\\\nloudness         &  0.1223 &   0.0006 &  204.1852 &      0.0000 &  0.1211 &  0.1234  \\\\\nmode             & -0.0031 &   0.0004 &   -7.6638 &      0.0000 & -0.0039 & -0.0023  \\\\\nspeechiness      &  0.0239 &   0.0004 &   54.2151 &      0.0000 &  0.0230 &  0.0247  \\\\\nacousticness     & -0.0861 &   0.0006 & -148.9532 &      0.0000 & -0.0872 & -0.0850  \\\\\ninstrumentalness &  0.0340 &   0.0005 &   71.5499 &      0.0000 &  0.0331 &  0.0349  \\\\\nliveness         &  0.0239 &   0.0004 &   56.5779 &      0.0000 &  0.0231 &  0.0247  \\\\\nvalence          &  0.0417 &   0.0005 &   85.0343 &      0.0000 &  0.0407 &  0.0426  \\\\\ntempo            &  0.0053 &   0.0004 &   12.5814 &      0.0000 &  0.0045 &  0.0061  \\\\\ntime\\_signature  &  0.0052 &   0.0004 &   12.3937 &      0.0000 &  0.0044 &  0.0060  \\\\\ntrack\\_genre     &  0.0438 &   0.0006 &   78.4051 &      0.0000 &  0.0427 &  0.0449  \\\\\n\\hline\n\\end{tabular}\n\\end{center}\n\n\\begin{center}\n\\begin{tabular}{llll}\n\\hline\nOmnibus:       & 5840.817 & Durbin-Watson:    & 1.994      \\\\\nProb(Omnibus): & 0.000    & Jarque-Bera (JB): & 26529.446  \\\\\nSkew:          & 0.167    & Prob(JB):         & 0.000      \\\\\nKurtosis:      & 5.708    & Condition No.:    & 3          \\\\\n\\hline\n\\end{tabular}\n\\end{center}\n\\end{table}\n\\bigskip\nNotes: \\newline \n[1] Standard Errors assume that the covariance matrix of the errors is correctly specified."
          },
          "metadata": {},
          "execution_count": 18
        }
      ],
      "source": [
        "# ваш код здесь\n",
        "#╰( ͡° ͜ʖ ͡° )つ──☆*:・ﾟ\n",
        "model.summary2()"
      ]
    },
    {
      "cell_type": "markdown",
      "source": [
        "Посмотрим на подобранные веса линейной регрессией и на значение свободного члена"
      ],
      "metadata": {
        "id": "hvkZaZVbUutN"
      }
    },
    {
      "cell_type": "code",
      "source": [
        "print(linear_reg.coef_)\n",
        "for coef in linear_reg.coef_:\n",
        "  print(coef == 0)\n",
        "print(linear_reg.intercept_)"
      ],
      "metadata": {
        "colab": {
          "base_uri": "https://localhost:8080/"
        },
        "id": "ecmtm8_RTwoZ",
        "outputId": "ed160032-7fd4-40c6-d2ae-de5c365da202"
      },
      "execution_count": 74,
      "outputs": [
        {
          "output_type": "stream",
          "name": "stdout",
          "text": [
            "[ 0.         -0.00219675  0.00309853 -0.00258008 -0.03214783  0.00341422\n",
            "  0.12227501 -0.0031295   0.02387998 -0.08610606  0.03399978  0.02389735\n",
            "  0.04167734  0.00529321  0.00517989  0.04379556]\n",
            "True\n",
            "False\n",
            "False\n",
            "False\n",
            "False\n",
            "False\n",
            "False\n",
            "False\n",
            "False\n",
            "False\n",
            "False\n",
            "False\n",
            "False\n",
            "False\n",
            "False\n",
            "False\n",
            "0.6420033217438598\n"
          ]
        }
      ]
    },
    {
      "cell_type": "markdown",
      "source": [
        "Коэффициенты примерно совпадают с моделью из StatsModel. Посмотрим на остальные модели"
      ],
      "metadata": {
        "id": "1pMgOnRMU3h7"
      }
    },
    {
      "cell_type": "code",
      "source": [
        "print(ridge_reg.coef_)\n",
        "for coef in linear_reg.coef_:\n",
        "  print(coef == 0)\n",
        "print(ridge_reg.intercept_)"
      ],
      "metadata": {
        "colab": {
          "base_uri": "https://localhost:8080/"
        },
        "id": "9k_USnxwVAUk",
        "outputId": "76530a12-45fd-4a05-dc08-934452cd4ef6"
      },
      "execution_count": 20,
      "outputs": [
        {
          "output_type": "stream",
          "name": "stdout",
          "text": [
            "[ 0.         -0.00219675  0.00309853 -0.00258008 -0.0321478   0.00341422\n",
            "  0.12227494 -0.0031295   0.02387996 -0.08610605  0.03399974  0.02389735\n",
            "  0.04167732  0.00529322  0.00517989  0.04379558]\n",
            "0.6420033217438598\n"
          ]
        }
      ]
    },
    {
      "cell_type": "code",
      "source": [
        "print(lasso_reg.coef_)\n",
        "for coef in linear_reg.coef_:\n",
        "  print(coef == 0)\n",
        "print(lasso_reg.intercept_)"
      ],
      "metadata": {
        "colab": {
          "base_uri": "https://localhost:8080/"
        },
        "id": "l7CsVdtvVUyN",
        "outputId": "cbee362a-c094-4c1d-bda5-e7d802e056fa"
      },
      "execution_count": 75,
      "outputs": [
        {
          "output_type": "stream",
          "name": "stdout",
          "text": [
            "[ 0.         -0.          0.          0.         -0.          0.\n",
            "  0.0867412  -0.          0.         -0.06455534  0.          0.\n",
            "  0.          0.          0.          0.03001922]\n",
            "True\n",
            "False\n",
            "False\n",
            "False\n",
            "False\n",
            "False\n",
            "False\n",
            "False\n",
            "False\n",
            "False\n",
            "False\n",
            "False\n",
            "False\n",
            "False\n",
            "False\n",
            "False\n",
            "0.6420033217438598\n"
          ]
        }
      ]
    },
    {
      "cell_type": "code",
      "source": [
        "print(elastic_net.coef_)\n",
        "for coef in linear_reg.coef_:\n",
        "  print(coef == 0)\n",
        "print(elastic_net.intercept_)"
      ],
      "metadata": {
        "colab": {
          "base_uri": "https://localhost:8080/"
        },
        "id": "9yXRDHugV6aC",
        "outputId": "e37f0b95-5cf0-4a6f-91ce-7eb9596d9607"
      },
      "execution_count": 76,
      "outputs": [
        {
          "output_type": "stream",
          "name": "stdout",
          "text": [
            "[ 0.         -0.          0.         -0.         -0.02248145  0.0001732\n",
            "  0.11579863 -0.          0.0186173  -0.08532101  0.02585687  0.02190828\n",
            "  0.03251377  0.00405218  0.00105692  0.04430352]\n",
            "True\n",
            "False\n",
            "False\n",
            "False\n",
            "False\n",
            "False\n",
            "False\n",
            "False\n",
            "False\n",
            "False\n",
            "False\n",
            "False\n",
            "False\n",
            "False\n",
            "False\n",
            "False\n",
            "0.6420033217438598\n"
          ]
        }
      ]
    },
    {
      "cell_type": "markdown",
      "source": [
        "## Общий вывод\n",
        "Глядя на коэффициенты признаков, я могу сделать следующие выводы:\n",
        "\n",
        "* Наиболее значимые параметры: **danceability, loudness, acousticness, instrumentalness, valence, track_genre** (для себя я выбрал критерий |t| > 65). Ну и константа, разумеется\n",
        "* Наименее значимые параметры: **popularity, explicit, duration_ms, key, mode**  (|t| < 10)\n",
        "* Категоральные признаки не сильно влияют на качество модели - значение коэффициента детерминации после их добавление лишь немного увеличилось\n",
        "\n",
        "**В целом, модель можно считать значимой.**"
      ],
      "metadata": {
        "id": "h8iY-6LKWBfP"
      }
    },
    {
      "cell_type": "markdown",
      "metadata": {
        "id": "yLcvGlUZy-Qt"
      },
      "source": [
        "#### 5. [1 балл] Реализуйте один из алгоритмов отбора признаков (Elimination by P-value, Forward elimination, Backward elimination), сделайте выводы."
      ]
    },
    {
      "cell_type": "markdown",
      "source": [
        "Был выбран метод Backward elimination"
      ],
      "metadata": {
        "id": "OBfVZDhHLvAZ"
      }
    },
    {
      "cell_type": "code",
      "execution_count": 23,
      "metadata": {
        "id": "TnrbRbkwy-Qt"
      },
      "outputs": [],
      "source": [
        "# your code here\n",
        "#╰( ͡° ͜ʖ ͡° )つ──☆*:・ﾟ\n",
        "min_pvalue = 0.05 # пороговое значение p-value\n",
        "while True:\n",
        "  max_pvalue = model.pvalues.max()\n",
        "  if max_pvalue > min_pvalue:\n",
        "    print(max_pvalue)\n",
        "    feature_to_remove = model.pvalues.idxmax()\n",
        "    print(feature_to_remove)\n",
        "    X_train = X_train.drop(feature_to_remove, axis=1)\n",
        "    model = sm.OLS(y_train, X_train).fit()\n",
        "  else:\n",
        "    break"
      ]
    },
    {
      "cell_type": "code",
      "source": [
        "model.summary2()"
      ],
      "metadata": {
        "colab": {
          "base_uri": "https://localhost:8080/",
          "height": 673
        },
        "id": "HoOJfw6hMMdh",
        "outputId": "c7025b62-576d-401a-801d-53f1b727e77a"
      },
      "execution_count": 24,
      "outputs": [
        {
          "output_type": "execute_result",
          "data": {
            "text/plain": [
              "<class 'statsmodels.iolib.summary2.Summary'>\n",
              "\"\"\"\n",
              "                   Results: Ordinary least squares\n",
              "=====================================================================\n",
              "Model:              OLS              Adj. R-squared:     0.782       \n",
              "Dependent Variable: energy           AIC:                -123348.8613\n",
              "Date:               2023-10-23 12:44 BIC:                -123199.1609\n",
              "No. Observations:   85500            Log-Likelihood:     61690.      \n",
              "Df Model:           15               F-statistic:        2.043e+04   \n",
              "Df Residuals:       85484            Prob (F-statistic): 0.00        \n",
              "R-squared:          0.782            Scale:              0.013832    \n",
              "---------------------------------------------------------------------\n",
              "                     Coef.  Std.Err.     t     P>|t|   [0.025  0.975]\n",
              "---------------------------------------------------------------------\n",
              "const                0.6420   0.0004 1596.1416 0.0000  0.6412  0.6428\n",
              "popularity          -0.0022   0.0004   -5.3965 0.0000 -0.0030 -0.0014\n",
              "duration_ms          0.0031   0.0004    7.4851 0.0000  0.0023  0.0039\n",
              "explicit            -0.0026   0.0004   -6.0042 0.0000 -0.0034 -0.0017\n",
              "danceability        -0.0321   0.0005  -65.5718 0.0000 -0.0331 -0.0312\n",
              "key                  0.0034   0.0004    8.3484 0.0000  0.0026  0.0042\n",
              "loudness             0.1223   0.0006  204.1852 0.0000  0.1211  0.1234\n",
              "mode                -0.0031   0.0004   -7.6638 0.0000 -0.0039 -0.0023\n",
              "speechiness          0.0239   0.0004   54.2151 0.0000  0.0230  0.0247\n",
              "acousticness        -0.0861   0.0006 -148.9532 0.0000 -0.0872 -0.0850\n",
              "instrumentalness     0.0340   0.0005   71.5499 0.0000  0.0331  0.0349\n",
              "liveness             0.0239   0.0004   56.5779 0.0000  0.0231  0.0247\n",
              "valence              0.0417   0.0005   85.0343 0.0000  0.0407  0.0426\n",
              "tempo                0.0053   0.0004   12.5814 0.0000  0.0045  0.0061\n",
              "time_signature       0.0052   0.0004   12.3937 0.0000  0.0044  0.0060\n",
              "track_genre          0.0438   0.0006   78.4051 0.0000  0.0427  0.0449\n",
              "---------------------------------------------------------------------\n",
              "Omnibus:             5840.817       Durbin-Watson:          1.994    \n",
              "Prob(Omnibus):       0.000          Jarque-Bera (JB):       26529.446\n",
              "Skew:                0.167          Prob(JB):               0.000    \n",
              "Kurtosis:            5.708          Condition No.:          3        \n",
              "=====================================================================\n",
              "Notes:\n",
              "[1] Standard Errors assume that the covariance matrix of the errors\n",
              "is correctly specified.\n",
              "\"\"\""
            ],
            "text/html": [
              "<table class=\"simpletable\">\n",
              "<tr>\n",
              "        <td>Model:</td>               <td>OLS</td>         <td>Adj. R-squared:</td>       <td>0.782</td>   \n",
              "</tr>\n",
              "<tr>\n",
              "  <td>Dependent Variable:</td>      <td>energy</td>             <td>AIC:</td>         <td>-123348.8613</td>\n",
              "</tr>\n",
              "<tr>\n",
              "         <td>Date:</td>        <td>2023-10-23 12:44</td>        <td>BIC:</td>         <td>-123199.1609</td>\n",
              "</tr>\n",
              "<tr>\n",
              "   <td>No. Observations:</td>        <td>85500</td>        <td>Log-Likelihood:</td>      <td>61690.</td>   \n",
              "</tr>\n",
              "<tr>\n",
              "       <td>Df Model:</td>             <td>15</td>           <td>F-statistic:</td>       <td>2.043e+04</td> \n",
              "</tr>\n",
              "<tr>\n",
              "     <td>Df Residuals:</td>          <td>85484</td>      <td>Prob (F-statistic):</td>     <td>0.00</td>    \n",
              "</tr>\n",
              "<tr>\n",
              "      <td>R-squared:</td>            <td>0.782</td>            <td>Scale:</td>          <td>0.013832</td>  \n",
              "</tr>\n",
              "</table>\n",
              "<table class=\"simpletable\">\n",
              "<tr>\n",
              "          <td></td>          <th>Coef.</th>  <th>Std.Err.</th>     <th>t</th>      <th>P>|t|</th> <th>[0.025</th>  <th>0.975]</th> \n",
              "</tr>\n",
              "<tr>\n",
              "  <th>const</th>            <td>0.6420</td>   <td>0.0004</td>  <td>1596.1416</td> <td>0.0000</td> <td>0.6412</td>  <td>0.6428</td> \n",
              "</tr>\n",
              "<tr>\n",
              "  <th>popularity</th>       <td>-0.0022</td>  <td>0.0004</td>   <td>-5.3965</td>  <td>0.0000</td> <td>-0.0030</td> <td>-0.0014</td>\n",
              "</tr>\n",
              "<tr>\n",
              "  <th>duration_ms</th>      <td>0.0031</td>   <td>0.0004</td>   <td>7.4851</td>   <td>0.0000</td> <td>0.0023</td>  <td>0.0039</td> \n",
              "</tr>\n",
              "<tr>\n",
              "  <th>explicit</th>         <td>-0.0026</td>  <td>0.0004</td>   <td>-6.0042</td>  <td>0.0000</td> <td>-0.0034</td> <td>-0.0017</td>\n",
              "</tr>\n",
              "<tr>\n",
              "  <th>danceability</th>     <td>-0.0321</td>  <td>0.0005</td>  <td>-65.5718</td>  <td>0.0000</td> <td>-0.0331</td> <td>-0.0312</td>\n",
              "</tr>\n",
              "<tr>\n",
              "  <th>key</th>              <td>0.0034</td>   <td>0.0004</td>   <td>8.3484</td>   <td>0.0000</td> <td>0.0026</td>  <td>0.0042</td> \n",
              "</tr>\n",
              "<tr>\n",
              "  <th>loudness</th>         <td>0.1223</td>   <td>0.0006</td>  <td>204.1852</td>  <td>0.0000</td> <td>0.1211</td>  <td>0.1234</td> \n",
              "</tr>\n",
              "<tr>\n",
              "  <th>mode</th>             <td>-0.0031</td>  <td>0.0004</td>   <td>-7.6638</td>  <td>0.0000</td> <td>-0.0039</td> <td>-0.0023</td>\n",
              "</tr>\n",
              "<tr>\n",
              "  <th>speechiness</th>      <td>0.0239</td>   <td>0.0004</td>   <td>54.2151</td>  <td>0.0000</td> <td>0.0230</td>  <td>0.0247</td> \n",
              "</tr>\n",
              "<tr>\n",
              "  <th>acousticness</th>     <td>-0.0861</td>  <td>0.0006</td>  <td>-148.9532</td> <td>0.0000</td> <td>-0.0872</td> <td>-0.0850</td>\n",
              "</tr>\n",
              "<tr>\n",
              "  <th>instrumentalness</th> <td>0.0340</td>   <td>0.0005</td>   <td>71.5499</td>  <td>0.0000</td> <td>0.0331</td>  <td>0.0349</td> \n",
              "</tr>\n",
              "<tr>\n",
              "  <th>liveness</th>         <td>0.0239</td>   <td>0.0004</td>   <td>56.5779</td>  <td>0.0000</td> <td>0.0231</td>  <td>0.0247</td> \n",
              "</tr>\n",
              "<tr>\n",
              "  <th>valence</th>          <td>0.0417</td>   <td>0.0005</td>   <td>85.0343</td>  <td>0.0000</td> <td>0.0407</td>  <td>0.0426</td> \n",
              "</tr>\n",
              "<tr>\n",
              "  <th>tempo</th>            <td>0.0053</td>   <td>0.0004</td>   <td>12.5814</td>  <td>0.0000</td> <td>0.0045</td>  <td>0.0061</td> \n",
              "</tr>\n",
              "<tr>\n",
              "  <th>time_signature</th>   <td>0.0052</td>   <td>0.0004</td>   <td>12.3937</td>  <td>0.0000</td> <td>0.0044</td>  <td>0.0060</td> \n",
              "</tr>\n",
              "<tr>\n",
              "  <th>track_genre</th>      <td>0.0438</td>   <td>0.0006</td>   <td>78.4051</td>  <td>0.0000</td> <td>0.0427</td>  <td>0.0449</td> \n",
              "</tr>\n",
              "</table>\n",
              "<table class=\"simpletable\">\n",
              "<tr>\n",
              "     <td>Omnibus:</td>    <td>5840.817</td>  <td>Durbin-Watson:</td>     <td>1.994</td>  \n",
              "</tr>\n",
              "<tr>\n",
              "  <td>Prob(Omnibus):</td>   <td>0.000</td>  <td>Jarque-Bera (JB):</td> <td>26529.446</td>\n",
              "</tr>\n",
              "<tr>\n",
              "       <td>Skew:</td>       <td>0.167</td>      <td>Prob(JB):</td>       <td>0.000</td>  \n",
              "</tr>\n",
              "<tr>\n",
              "     <td>Kurtosis:</td>     <td>5.708</td>   <td>Condition No.:</td>       <td>3</td>    \n",
              "</tr>\n",
              "</table><br/>\n",
              "Notes:<br/>\n",
              "[1] Standard Errors assume that the covariance matrix of the errors is correctly specified."
            ],
            "text/latex": "\\begin{table}\n\\caption{Results: Ordinary least squares}\n\\label{}\n\\begin{center}\n\\begin{tabular}{llll}\n\\hline\nModel:              & OLS              & Adj. R-squared:     & 0.782         \\\\\nDependent Variable: & energy           & AIC:                & -123348.8613  \\\\\nDate:               & 2023-10-23 12:44 & BIC:                & -123199.1609  \\\\\nNo. Observations:   & 85500            & Log-Likelihood:     & 61690.        \\\\\nDf Model:           & 15               & F-statistic:        & 2.043e+04     \\\\\nDf Residuals:       & 85484            & Prob (F-statistic): & 0.00          \\\\\nR-squared:          & 0.782            & Scale:              & 0.013832      \\\\\n\\hline\n\\end{tabular}\n\\end{center}\n\n\\begin{center}\n\\begin{tabular}{lrrrrrr}\n\\hline\n                 &   Coef. & Std.Err. &         t & P$> |$t$|$ &  [0.025 &  0.975]  \\\\\n\\hline\nconst            &  0.6420 &   0.0004 & 1596.1416 &      0.0000 &  0.6412 &  0.6428  \\\\\npopularity       & -0.0022 &   0.0004 &   -5.3965 &      0.0000 & -0.0030 & -0.0014  \\\\\nduration\\_ms     &  0.0031 &   0.0004 &    7.4851 &      0.0000 &  0.0023 &  0.0039  \\\\\nexplicit         & -0.0026 &   0.0004 &   -6.0042 &      0.0000 & -0.0034 & -0.0017  \\\\\ndanceability     & -0.0321 &   0.0005 &  -65.5718 &      0.0000 & -0.0331 & -0.0312  \\\\\nkey              &  0.0034 &   0.0004 &    8.3484 &      0.0000 &  0.0026 &  0.0042  \\\\\nloudness         &  0.1223 &   0.0006 &  204.1852 &      0.0000 &  0.1211 &  0.1234  \\\\\nmode             & -0.0031 &   0.0004 &   -7.6638 &      0.0000 & -0.0039 & -0.0023  \\\\\nspeechiness      &  0.0239 &   0.0004 &   54.2151 &      0.0000 &  0.0230 &  0.0247  \\\\\nacousticness     & -0.0861 &   0.0006 & -148.9532 &      0.0000 & -0.0872 & -0.0850  \\\\\ninstrumentalness &  0.0340 &   0.0005 &   71.5499 &      0.0000 &  0.0331 &  0.0349  \\\\\nliveness         &  0.0239 &   0.0004 &   56.5779 &      0.0000 &  0.0231 &  0.0247  \\\\\nvalence          &  0.0417 &   0.0005 &   85.0343 &      0.0000 &  0.0407 &  0.0426  \\\\\ntempo            &  0.0053 &   0.0004 &   12.5814 &      0.0000 &  0.0045 &  0.0061  \\\\\ntime\\_signature  &  0.0052 &   0.0004 &   12.3937 &      0.0000 &  0.0044 &  0.0060  \\\\\ntrack\\_genre     &  0.0438 &   0.0006 &   78.4051 &      0.0000 &  0.0427 &  0.0449  \\\\\n\\hline\n\\end{tabular}\n\\end{center}\n\n\\begin{center}\n\\begin{tabular}{llll}\n\\hline\nOmnibus:       & 5840.817 & Durbin-Watson:    & 1.994      \\\\\nProb(Omnibus): & 0.000    & Jarque-Bera (JB): & 26529.446  \\\\\nSkew:          & 0.167    & Prob(JB):         & 0.000      \\\\\nKurtosis:      & 5.708    & Condition No.:    & 3          \\\\\n\\hline\n\\end{tabular}\n\\end{center}\n\\end{table}\n\\bigskip\nNotes: \\newline \n[1] Standard Errors assume that the covariance matrix of the errors is correctly specified."
          },
          "metadata": {},
          "execution_count": 24
        }
      ]
    },
    {
      "cell_type": "markdown",
      "source": [
        "На выбранном уровне значимости 0.05 все признаки значимые, удалений не произошло, модель не изменилась"
      ],
      "metadata": {
        "id": "gU4aMwevORDu"
      }
    },
    {
      "cell_type": "markdown",
      "metadata": {
        "id": "df0eQLdNy-Qt"
      },
      "source": [
        "#### 6. [1 балл] Найдите лучший (по RMSE) $\\alpha$ для регрессиии Lasso, используя кросс-валидацию на 5 фолдов. Вы должны выбрать значение из промежутка $[10^{-4}, 10^{3}]$."
      ]
    },
    {
      "cell_type": "code",
      "execution_count": 25,
      "metadata": {
        "id": "JPoT3YHqy-Qt",
        "colab": {
          "base_uri": "https://localhost:8080/"
        },
        "outputId": "f6b0a096-354e-4ec9-a8ae-dbb3ccf15f23"
      },
      "outputs": [
        {
          "output_type": "stream",
          "name": "stdout",
          "text": [
            "Лучший alpha: Lasso(alpha=0.0001)\n",
            "Лучшее RMSE: 0.11763473348233339\n"
          ]
        }
      ],
      "source": [
        "# your code here\n",
        "#╰( ͡° ͜ʖ ͡° )つ──☆*:・ﾟ\n",
        "alphas = np.logspace(-4, 3, num=1000)\n",
        "lasso = Lasso()\n",
        "param_grid = {'alpha': alphas}\n",
        "\n",
        "grid_search = GridSearchCV(lasso, param_grid, cv=5, scoring='neg_mean_squared_error')\n",
        "\n",
        "grid_search.fit(X_train, y_train)\n",
        "\n",
        "best_alpha = grid_search.best_estimator_\n",
        "best_rmse = np.sqrt(-grid_search.best_score_)\n",
        "\n",
        "print(f\"Лучший alpha: {best_alpha}\")\n",
        "print(f\"Лучшее RMSE: {best_rmse}\")"
      ]
    },
    {
      "cell_type": "markdown",
      "metadata": {
        "id": "Q1PKinJUy-Qt"
      },
      "source": [
        "## Градиентный спуск\n",
        "\n",
        "#### 7. [3.5 балла] Имплементируйте  Ridge регрессию для MSE loss, обученную на градиентом спуске.\n",
        "\n",
        "\n",
        "Все вычисления должны быть векторизованы, а циклы Python можно использовать только для итераций градиентного спуска. В качестве критерия остановки необходимо использовать (одновременно):\n",
        "\n",
        "* проверка абсолютной нормы разницы весов на двух соседних итерациях (например, меньше некоторого малого числа порядка $10^{-6}$, заданного параметром `tolerance`);\n",
        "\n",
        "* достижение максимального количества итераций (например, 10000, заданного параметром `max_iter`).\n",
        "\n",
        "Вам необходимо выполнить:\n",
        "\n",
        "* Полный градиентный спуск:\n",
        "\n",
        "$$\n",
        "w_{k + 1} = w_{k} - \\eta_{k} \\nabla_{w} Q(w_{k}).\n",
        "$$\n",
        "\n",
        "* Стохастический градиентный спуск:\n",
        "\n",
        "$$\n",
        "w_{k + 1} = w_{k} - \\eta_{k} \\nabla_{w} q_{i_{k}}(w_{k}).\n",
        "$$\n",
        "\n",
        "$\\nabla_{w} q_{i_{k}}(w_{k}) \\, $ является оценкой градиента по набору объектов, выбранных случайным образом.\n",
        "\n",
        "* Momentum method:\n",
        "\n",
        "$$\n",
        "h_0 = 0, \\\\\n",
        "h_{k + 1} = \\alpha h_{k} + \\eta_k \\nabla_{w} Q(w_{k}), \\\\\n",
        "w_{k + 1} = w_{k} - h_{k + 1}.\n",
        "$$\n",
        "\n",
        "* Adagrad method:\n",
        "\n",
        "$$\n",
        "G_0 = 0, \\\\\n",
        "G_{k + 1} = G_{k} + (\\nabla_{w} Q(w_{k+1}))^2, \\\\\n",
        "w_{k + 1} = w_{k} - \\eta * \\frac{\\nabla_{w} Q(w_{k+1})}{\\sqrt{G_{k+1} + \\epsilon}}.\n",
        "$$\n",
        "\n",
        "Чтобы убедиться, что процесс оптимизации действительно выполняется, мы будем использовать атрибут класса `loss_history`. После вызова метода fit он должен содержать значения функции потерь для всех итераций, начиная с первой (до первого шага по антиградиенту).\n",
        "\n",
        "\n",
        "Вам нужно инициализировать веса случайным вектором из нормального распределения. Ниже приведен шаблон, который должен содержать код, реализующий все варианты моделей."
      ]
    },
    {
      "cell_type": "code",
      "execution_count": 71,
      "metadata": {
        "id": "oI39UzCLy-Qu"
      },
      "outputs": [],
      "source": [
        "from sklearn.base import BaseEstimator\n",
        "\n",
        "# часть кода была написана с помощью chatGPT\n",
        "class LinReg(BaseEstimator):\n",
        "    def __init__(self, delta=1.0, gd_type='Momentum',\n",
        "                 tolerance=1e-4, max_iter=1000, w0=None, eta=1e-2, alpha=1e-3, reg_cf=1.0, epsilon=1e-8):\n",
        "        \"\"\"\n",
        "        gd_type: str\n",
        "            'GradientDescent', 'StochasticDescent', 'Momentum', 'Adagrad'\n",
        "        delta: float\n",
        "            proportion of object in a batch (for stochastic GD)\n",
        "        tolerance: float\n",
        "            for stopping gradient descent\n",
        "        max_iter: int\n",
        "            maximum number of steps in gradient descent\n",
        "        w0: np.array of shape (d)\n",
        "            init weights\n",
        "        eta: float\n",
        "            learning rate\n",
        "        alpha: float\n",
        "            momentum coefficient\n",
        "        reg_cf: float\n",
        "            regularization coefficient\n",
        "        epsilon: float\n",
        "            numerical stability\n",
        "        \"\"\"\n",
        "\n",
        "        self.delta = delta\n",
        "        self.gd_type = gd_type\n",
        "        self.tolerance = tolerance\n",
        "        self.max_iter = max_iter\n",
        "        self.w0 = w0\n",
        "        self.alpha = alpha\n",
        "        self.w = None\n",
        "        self.eta = eta\n",
        "        self.loss_history = None # list of loss function values at each training iteration\n",
        "        self.reg_cf = reg_cf\n",
        "        self.epsilon = epsilon\n",
        "\n",
        "        if self.gd_type == 'Momentum':\n",
        "            self.momentum = np.zeros(X.shape[1] + 1)\n",
        "\n",
        "    def fit(self, X, y):\n",
        "        \"\"\"\n",
        "        X: np.array of shape (l, d)\n",
        "        y: np.array of shape (l)\n",
        "        ---\n",
        "        output: self\n",
        "        \"\"\"\n",
        "        if self.w0 is None:\n",
        "            self.w0 = np.random.randn(X.shape[1])\n",
        "        self.w = self.w0.copy()\n",
        "        self.loss_history = []\n",
        "\n",
        "        for i in range(self.max_iter):\n",
        "          gradient = self.calc_gradient(X, y)\n",
        "          self.w -= self.eta * gradient\n",
        "\n",
        "          self.w -= 2 * self.eta * self.reg_cf * self.w\n",
        "\n",
        "          loss = self.calc_loss(X, y)\n",
        "          self.loss_history.append(loss)\n",
        "\n",
        "          if i > 0 and np.linalg.norm(self.w - self.w0) < self.tolerance:\n",
        "            break\n",
        "          self.w0 = self.w\n",
        "\n",
        "        return self\n",
        "\n",
        "    def predict(self, X):\n",
        "        if self.w is None:\n",
        "            raise Exception('Not trained yet')\n",
        "        return np.dot(X, self.w)\n",
        "\n",
        "    def calc_gradient(self, X, y):\n",
        "        \"\"\"\n",
        "        X: np.array of shape (l, d) (l can be equal to 1 if stochastic)\n",
        "        y: np.array of shape (l)\n",
        "        ---\n",
        "        output: np.array of shape (d)\n",
        "        \"\"\"\n",
        "        rows = X.shape[0]\n",
        "\n",
        "        if self.gd_type == 'GradientDescent':\n",
        "          gradient = (2.0 / rows) * np.dot(X.T, np.dot(X, self.w) - y)\n",
        "        elif self.gd_type == 'StochasticDescent':\n",
        "          indx = np.random.choice(rows, int(self.delta * rows), replace=False)\n",
        "          X_batch = X[indx]\n",
        "          y_batch = y[indx]\n",
        "          gradient = (2.0 / len(X_batch)) * np.dot(X_batch.T, np.dot(X_batch, self.w) - y_batch)\n",
        "        elif self.gd_type == 'Momentum':\n",
        "          self.momentum = self.alpha * self.momentum + self.eta * (2.0 / rows) * np.dot(X.T, np.dot(X, self.w) - y)\n",
        "          gradient = self.momentum\n",
        "        else:\n",
        "          if not hasattr(self, 'G'):\n",
        "            self.G = np.zeros(X.shape[1])\n",
        "          gradient = (2.0 / rows) * np.dot(X.T, np.dot(X, self.w) - y)\n",
        "          self.G += gradient ** 2\n",
        "          adj_eta = self.eta / (np.sqrt(self.G) + self.epsilon)\n",
        "          gradient = adj_eta * gradient\n",
        "\n",
        "        return gradient\n",
        "\n",
        "    def calc_loss(self, X, y):\n",
        "        \"\"\"\n",
        "        X: np.array of shape (l, d)\n",
        "        y: np.array of shape (l)\n",
        "        ---\n",
        "        output: float\n",
        "        \"\"\"\n",
        "        rows = X.shape[0]\n",
        "        y_pred = np.dot(X, self.w)\n",
        "        loss = (1.0 / rows) * np.sum((y_pred - y) ** 2) + self.reg_cf * np.sum(self.w ** 2)\n",
        "        return loss"
      ]
    },
    {
      "cell_type": "markdown",
      "metadata": {
        "id": "1QQJEjGVy-Qu"
      },
      "source": [
        "#### 8. [1 балл] Натренируйте и провалидируйте \"ручные\" модели на тех же даннных, сравните качество с моделями из Sklearn и StatsModels. Исследуйте влияние параметров `max_iter` и `alpha` на процесс оптимизации. Соответствует ли оно вашим ожиданиям?"
      ]
    },
    {
      "cell_type": "code",
      "execution_count": 73,
      "metadata": {
        "id": "rIJNcxt_y-Qu"
      },
      "outputs": [],
      "source": [
        "# your code here\n",
        "#╰( ͡° ͜ʖ ͡° )つ──☆*:・ﾟ"
      ]
    },
    {
      "cell_type": "markdown",
      "metadata": {
        "id": "bqYtVqv-y-Qu"
      },
      "source": [
        "#### 9. [1 балл] Постройте графики (там же) зависимости значения функции потерь от номера итерации для всех моделей (полного градиентого спуска, стохастического гс, Momentum и Adagrad). Сделайте выводы о скорости сходимости различных модификаций градиентного спуска.\n",
        "\n",
        "\n",
        "Не забывайте о том, как должен выглядеть *красивый* график!"
      ]
    },
    {
      "cell_type": "code",
      "execution_count": null,
      "metadata": {
        "id": "Xbwhu8BSy-Qu"
      },
      "outputs": [],
      "source": [
        "# your code here\n",
        "#╰( ͡° ͜ʖ ͡° )つ──☆*:・ﾟ"
      ]
    }
  ],
  "metadata": {
    "colab": {
      "provenance": []
    },
    "kernelspec": {
      "display_name": "Python 3 (ipykernel)",
      "language": "python",
      "name": "python3"
    },
    "language_info": {
      "codemirror_mode": {
        "name": "ipython",
        "version": 3
      },
      "file_extension": ".py",
      "mimetype": "text/x-python",
      "name": "python",
      "nbconvert_exporter": "python",
      "pygments_lexer": "ipython3",
      "version": "3.10.9"
    }
  },
  "nbformat": 4,
  "nbformat_minor": 0
}